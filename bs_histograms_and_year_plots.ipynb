{
 "cells": [
  {
   "cell_type": "code",
   "execution_count": 1,
   "metadata": {},
   "outputs": [],
   "source": [
    "import matplotlib.pyplot as plt\n",
    "import seaborn as sns\n",
    "import pandas as pd\n",
    "import numpy as np"
   ]
  },
  {
   "cell_type": "markdown",
   "metadata": {},
   "source": [
    "# let's have a look at the data scraped from web of science"
   ]
  },
  {
   "cell_type": "markdown",
   "metadata": {},
   "source": [
    "there's considerable range in our bs values; this may be informative aboutthe different entitites:\n",
    "_fields, countries, genders, institutions, journals .._"
   ]
  },
  {
   "cell_type": "code",
   "execution_count": 2,
   "metadata": {},
   "outputs": [],
   "source": [
    "neuro_df = pd.read_csv('/Users/mococomac/PycharmProjects/bsFactor/fields/neuroscience/outputs/neuroscience_bs_indices.csv')\n",
    "physi_df = pd.read_csv('/Users/mococomac/PycharmProjects/bsFactor/fields/physics/outputs/physics_bs_indices.csv')"
   ]
  },
  {
   "cell_type": "code",
   "execution_count": 3,
   "metadata": {},
   "outputs": [
    {
     "name": "stdout",
     "output_type": "stream",
     "text": [
      "there's 178259 neuroscience indices, with values from 0.0 to 40.775368348915755, from 41 countries and 4605 authors with 39.0 papers on average\n",
      "\n",
      "\n",
      "there's 55159 physics indices, with values from 0.0 to 101.31687242798355, from 13 countries and 1509 authors with 37.0 papers on average\n"
     ]
    }
   ],
   "source": [
    "print(\"there's \" + str(neuro_df.shape[0]) + ' neuroscience indices, with values from ' +str(np.round(neuro_df['BS_Index'].min(),4)) + ' to ' + str(neuro_df['BS_Index'].max()) + ', from ' + str(len(neuro_df[\"Country\"].unique())) + ' countries and ' + str(len(neuro_df[\"Author\"].unique())) + ' authors with '+ str(np.round(neuro_df.groupby('Author')['BS_Index'].count().mean()))+' papers on average')\n",
    "print('\\n')\n",
    "print(\"there's \" + str(physi_df.shape[0]) + ' physics indices, with values from ' +str(np.round(physi_df['BS_Index'].min(),4)) + ' to ' + str(physi_df['BS_Index'].max())+ ', from ' + str(len(physi_df[\"Country\"].unique())) + ' countries and ' + str(len(physi_df[\"Author\"].unique())) + ' authors with '+str(np.round(physi_df.groupby('Author')['BS_Index'].count().mean()))+' papers on average')"
   ]
  },
  {
   "cell_type": "markdown",
   "metadata": {},
   "source": [
    "in case we want to see which neuro authors are best and worst (with a minimum of 10 published papers in the database)"
   ]
  },
  {
   "cell_type": "code",
   "execution_count": 4,
   "metadata": {},
   "outputs": [],
   "source": [
    "filter_function = lambda x: x['Author'].value_counts().get(x.name, 0) >= 10"
   ]
  },
  {
   "cell_type": "code",
   "execution_count": 5,
   "metadata": {},
   "outputs": [
    {
     "data": {
      "text/plain": [
       "Author\n",
       "Barinaga, M          0.130571\n",
       "Hardcastle, VG       0.169228\n",
       "Garcia-marques, L    0.210708\n",
       "Wigstrom, H          0.248226\n",
       "Ramos, JMJ           0.250568\n",
       "                       ...   \n",
       "Zhang, MIN-LING      4.060492\n",
       "Hassabis, D          4.079575\n",
       "Smith, STEPHEN       4.256664\n",
       "Schore, AN           4.676463\n",
       "Cambria, E           4.713953\n",
       "Name: BS_Index, Length: 3344, dtype: float64"
      ]
     },
     "execution_count": 5,
     "metadata": {},
     "output_type": "execute_result"
    }
   ],
   "source": [
    "neuro_df.groupby('Author').filter(filter_function).groupby('Author')['BS_Index'].mean().sort_values(ascending=True)"
   ]
  },
  {
   "cell_type": "markdown",
   "metadata": {},
   "source": [
    "same thing for physics"
   ]
  },
  {
   "cell_type": "code",
   "execution_count": 6,
   "metadata": {},
   "outputs": [
    {
     "data": {
      "text/plain": [
       "Author\n",
       "Jung, YD            0.391516\n",
       "Kimura, NORIYUKI    0.391706\n",
       "Smith, RW           0.403165\n",
       "Gagnon, P           0.406720\n",
       "Tolias, P           0.422265\n",
       "                      ...   \n",
       "Smith, J            3.715156\n",
       "Aguilar, JA         3.797684\n",
       "Zhou, N             3.944929\n",
       "Smith, VJ           4.113306\n",
       "Zhang, Z            5.262919\n",
       "Name: BS_Index, Length: 609, dtype: float64"
      ]
     },
     "execution_count": 6,
     "metadata": {},
     "output_type": "execute_result"
    }
   ],
   "source": [
    "physi_df.groupby('Author').filter(filter_function).groupby('Author')['BS_Index'].mean().sort_values(ascending=True)"
   ]
  },
  {
   "cell_type": "code",
   "execution_count": 7,
   "metadata": {},
   "outputs": [
    {
     "data": {
      "image/png": "[encoded data removed]",
      "text/plain": [
       "<Figure size 432x288 with 1 Axes>"
      ]
     },
     "metadata": {
      "needs_background": "light"
     },
     "output_type": "display_data"
    }
   ],
   "source": [
    "# scatterplot to eyeball how the indices have evolved across years\n",
    "\n",
    "sns.scatterplot(pd.concat([neuro_df,physi_df]).groupby(['Year'])['BS_Index'].mean()).set(title='mean indices across years, regardless of field');\n"
   ]
  },
  {
   "cell_type": "markdown",
   "metadata": {},
   "source": [
    "# let's plot some histograms #"
   ]
  },
  {
   "cell_type": "code",
   "execution_count": 8,
   "metadata": {},
   "outputs": [
    {
     "data": {
      "image/png": "[encoded data removed]",
      "text/plain": [
       "<Figure size 360x360 with 1 Axes>"
      ]
     },
     "metadata": {
      "needs_background": "light"
     },
     "output_type": "display_data"
    }
   ],
   "source": [
    "p = sns.displot(neuro_df.groupby('Author').mean(), x=\"BS_Index\",binwidth=0.5);\n",
    "\n",
    "inlf_neuro_authors = np.round((neuro_df.groupby('Author').mean()['BS_Index']<1).sum()/len(neuro_df[\"Author\"].unique()),3)\n",
    "inlf_neuro_authors *= 100\n",
    "\n",
    "p.set(title='mean BS per author, neuroscience: ' + str(inlf_neuro_authors) + '% are below 1')\n",
    "plt.axvline(x=1, color='red', linestyle='--', label='Vertical Line');"
   ]
  },
  {
   "cell_type": "markdown",
   "metadata": {},
   "source": [
    "the ones below 0.5 are suspicious - if they have a high N of publications"
   ]
  },
  {
   "cell_type": "code",
   "execution_count": 10,
   "metadata": {},
   "outputs": [
    {
     "data": {
      "image/png": "[encoded data removed]",
      "text/plain": [
       "<Figure size 360x360 with 1 Axes>"
      ]
     },
     "metadata": {
      "needs_background": "light"
     },
     "output_type": "display_data"
    }
   ],
   "source": [
    "p = sns.displot(physi_df.groupby('Author').mean(), x=\"BS_Index\",binwidth=0.5);\n",
    "\n",
    "infl_physi_authors = (physi_df.groupby('Author').mean()['BS_Index']<1).sum()/len(physi_df[\"Author\"].unique())\n",
    "infl_physi_authors *= 100\n",
    "\n",
    "p.set(title='mean BS per author, physics: ' + str(np.round(infl_physi_authors,2)) + '% are below  1');\n",
    "plt.axvline(x=1, color='red', linestyle='--', label='Vertical Line');"
   ]
  },
  {
   "cell_type": "markdown",
   "metadata": {},
   "source": [
    "**let's see how bs indices progress with years in the game**"
   ]
  },
  {
   "cell_type": "code",
   "execution_count": 21,
   "metadata": {},
   "outputs": [
    {
     "name": "stdout",
     "output_type": "stream",
     "text": [
      "3947 authors with at least 10 publications\n"
     ]
    }
   ],
   "source": [
    "df = pd.concat([neuro_df.groupby('Author').filter(filter_function),physi_df.groupby('Author').filter(filter_function)])\n",
    "df = df.groupby(['Author','Year'])['BS_Index'].mean().reset_index()\n",
    "\n",
    "print(len(df.Author.unique()),'authors with at least 10 publications')"
   ]
  },
  {
   "cell_type": "markdown",
   "metadata": {},
   "source": [
    "here below we can see what the average bs is for each year in the game"
   ]
  },
  {
   "cell_type": "code",
   "execution_count": 12,
   "metadata": {
    "scrolled": true
   },
   "outputs": [
    {
     "data": {
      "image/png": "[encoded data removed]",
      "text/plain": [
       "<Figure size 432x288 with 1 Axes>"
      ]
     },
     "metadata": {
      "needs_background": "light"
     },
     "output_type": "display_data"
    }
   ],
   "source": [
    "df['normalized_time'] = df.groupby('Author')['Year'].cumcount()\n",
    "plt.plot(df['normalized_time'].unique(),df.groupby('normalized_time')['BS_Index'].mean());"
   ]
  },
  {
   "cell_type": "markdown",
   "metadata": {},
   "source": [
    "pretty stable on the overall (0.14 diff at most)"
   ]
  }
 ],
 "metadata": {
  "kernelspec": {
   "display_name": "Python 3 (ipykernel)",
   "language": "python",
   "name": "python3"
  },
  "language_info": {
   "codemirror_mode": {
    "name": "ipython",
    "version": 3
   },
   "file_extension": ".py",
   "mimetype": "text/x-python",
   "name": "python",
   "nbconvert_exporter": "python",
   "pygments_lexer": "ipython3",
   "version": "3.7.3"
  }
 },
 "nbformat": 4,
 "nbformat_minor": 2
}
