{
 "cells": [
  {
   "cell_type": "code",
   "execution_count": 2,
   "metadata": {},
   "outputs": [],
   "source": [
    "import numpy as np\n",
    "import pandas as pd"
   ]
  },
  {
   "cell_type": "markdown",
   "metadata": {},
   "source": [
    "let's simulate an impact factor for 2012"
   ]
  },
  {
   "cell_type": "code",
   "execution_count": 3,
   "metadata": {},
   "outputs": [
    {
     "data": {
      "text/plain": [
       "14.825"
      ]
     },
     "execution_count": 3,
     "metadata": {},
     "output_type": "execute_result"
    }
   ],
   "source": [
    "# Total counts of citations of those papers in 2012 / Npaperspublished is the IF\n",
    "N = 20\n",
    "y2012_citations_of_papers_published_in_2010 = np.random.randint(0,30,N)\n",
    "y2012_citations_of_papers_published_in_2011 = np.random.randint(0,30,N)\n",
    "\n",
    "IF_2012 = (np.sum(y2012_citations_of_papers_published_in_2010) + np.sum(y2012_citations_of_papers_published_in_2011)) / (len(y2012_citations_of_papers_published_in_2010) + len(y2012_citations_of_papers_published_in_2011))\n",
    "IF_2012"
   ]
  },
  {
   "cell_type": "markdown",
   "metadata": {},
   "source": [
    "and for 2011"
   ]
  },
  {
   "cell_type": "code",
   "execution_count": 5,
   "metadata": {
    "scrolled": true
   },
   "outputs": [
    {
     "data": {
      "text/plain": [
       "13.1"
      ]
     },
     "execution_count": 5,
     "metadata": {},
     "output_type": "execute_result"
    }
   ],
   "source": [
    "y2011_citations_of_papers_published_in_2010 = np.random.randint(0,30,N)\n",
    "y2011_citations_of_papers_published_in_2009 = np.random.randint(0,30,N)\n",
    "\n",
    "IF_2011 = (np.sum(y2011_citations_of_papers_published_in_2009) + np.sum(y2011_citations_of_papers_published_in_2010)) / (len(y2011_citations_of_papers_published_in_2009) + len(y2011_citations_of_papers_published_in_2010))\n",
    "IF_2011"
   ]
  },
  {
   "cell_type": "markdown",
   "metadata": {},
   "source": [
    "_now i have the 2011 and 2012 IF factors of papers published in 2010, along with their citations:\n",
    " we're ready to calculate the BS_"
   ]
  },
  {
   "cell_type": "code",
   "execution_count": 6,
   "metadata": {},
   "outputs": [],
   "source": [
    "c1 = y2012_citations_of_papers_published_in_2011\n",
    "c2 = y2011_citations_of_papers_published_in_2010"
   ]
  },
  {
   "cell_type": "code",
   "execution_count": 17,
   "metadata": {
    "scrolled": true
   },
   "outputs": [
    {
     "name": "stdout",
     "output_type": "stream",
     "text": [
      "**2010 bs indices**\n"
     ]
    },
    {
     "data": {
      "text/plain": [
       "array([0.        , 1.18173679, 0.85944494, 1.217547  , 0.17905103,\n",
       "       0.42972247, 0.96687556, 0.57296329, 1.03849597, 1.32497762,\n",
       "       1.28916741, 1.18173679, 0.78782453, 0.14324082, 0.17905103,\n",
       "       1.18173679, 1.25335721, 1.07430618, 1.53983885, 0.78782453])"
      ]
     },
     "execution_count": 17,
     "metadata": {},
     "output_type": "execute_result"
    }
   ],
   "source": [
    "# we need to invert numerator and denominator of bs formula (as suggested by Alex some time ago)\n",
    "# BUT: an index < 1 is bad, while > 1 is good\n",
    "print('**2010 bs indices**')\n",
    "(c1+c2) / (IF_2011 + IF_2012)"
   ]
  },
  {
   "cell_type": "code",
   "execution_count": 19,
   "metadata": {
    "scrolled": true
   },
   "outputs": [
    {
     "name": "stdout",
     "output_type": "stream",
     "text": [
      "average bs\n"
     ]
    },
    {
     "data": {
      "text/plain": [
       "1.0"
      ]
     },
     "execution_count": 19,
     "metadata": {},
     "output_type": "execute_result"
    }
   ],
   "source": [
    "# then average BS of the publications is indeed ~= 1 \n",
    "# negligible distance -within a decimal point- arise with N of publications is low\n",
    "print('average bs')\n",
    "np.round(np.mean((c1+c2) / (IF_2011 + IF_2012)))"
   ]
  },
  {
   "cell_type": "markdown",
   "metadata": {},
   "source": [
    "**Yook and Zook simulations:**"
   ]
  },
  {
   "cell_type": "code",
   "execution_count": 20,
   "metadata": {},
   "outputs": [],
   "source": [
    "# identify the high and low bounds of the citation distributions\n",
    "tot_cit = c1+c2\n",
    "lower_bound = np.percentile(tot_cit, 10)\n",
    "upper_bound = np.percentile(tot_cit, 90)"
   ]
  },
  {
   "cell_type": "code",
   "execution_count": 21,
   "metadata": {},
   "outputs": [
    {
     "name": "stdout",
     "output_type": "stream",
     "text": [
      "average Yook BS: 0.07\n"
     ]
    }
   ],
   "source": [
    "print('average Yook BS:',(np.round(np.mean(tot_cit[(c1+c2)<=lower_bound])/ (IF_2011 + IF_2012),2)))"
   ]
  },
  {
   "cell_type": "code",
   "execution_count": 22,
   "metadata": {},
   "outputs": [
    {
     "name": "stdout",
     "output_type": "stream",
     "text": [
      "average Zook BS: 1.43\n"
     ]
    }
   ],
   "source": [
    "print('average Zook BS:',(np.round(np.mean(tot_cit[(c1+c2)>=upper_bound])/ (IF_2011 + IF_2012),2)))"
   ]
  },
  {
   "cell_type": "markdown",
   "metadata": {},
   "source": [
    "**neat property of index: if it is 2 it means the paper had double the expected citations over the two years, while if it's 0.5 it had _half_ of them, and so on**"
   ]
  }
 ],
 "metadata": {
  "kernelspec": {
   "display_name": "Python 3 (ipykernel)",
   "language": "python",
   "name": "python3"
  },
  "language_info": {
   "codemirror_mode": {
    "name": "ipython",
    "version": 3
   },
   "file_extension": ".py",
   "mimetype": "text/x-python",
   "name": "python",
   "nbconvert_exporter": "python",
   "pygments_lexer": "ipython3",
   "version": "3.7.3"
  }
 },
 "nbformat": 4,
 "nbformat_minor": 2
}
